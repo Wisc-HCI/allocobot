{
 "cells": [
  {
   "cell_type": "code",
   "execution_count": 2,
   "metadata": {},
   "outputs": [],
   "source": [
    "import z3"
   ]
  },
  {
   "cell_type": "code",
   "execution_count": 39,
   "metadata": {},
   "outputs": [
    {
     "name": "stdout",
     "output_type": "stream",
     "text": [
      "sat\n",
      "unknown\n",
      "[t1 = 1, t4 = 4, t3 = 3, t0 = 0, t2 = 2]\n"
     ]
    }
   ],
   "source": [
    "ctx = z3.Context()\n",
    "solver = z3.Optimize(ctx)\n",
    "\n",
    "length = 5\n",
    "\n",
    "timeline = [z3.Int('t{0}'.format(i),ctx) for i in range(length)]\n",
    "for i in range(length-1):\n",
    "    solver.add(timeline[i+1] > timeline[i])\n",
    "solver.add(timeline[0] >= 0)\n",
    "# solver.add(timeline[len(timeline)-1]==2)\n",
    "\n",
    "\n",
    "solver.minimize(timeline[length-1])\n",
    "print(solver.check())\n",
    "print(solver.reason_unknown())\n",
    "print(solver.model())\n"
   ]
  },
  {
   "cell_type": "code",
   "execution_count": 42,
   "metadata": {},
   "outputs": [
    {
     "name": "stdout",
     "output_type": "stream",
     "text": [
      "[t1 = 1,\n",
      " timeline = Store(Store(K(Int, 6), 0, 3), 1, 2),\n",
      " v1 = 2,\n",
      " v2 = 3,\n",
      " t2 = 0]\n",
      "4\n"
     ]
    }
   ],
   "source": [
    "ctx = z3.Context()\n",
    "solver = z3.Optimize()\n",
    "\n",
    "timeline = z3.Array(\"timeline\",z3.IntSort(),z3.IntSort())\n",
    "arbitrary_t = z3.Int(\"t\")\n",
    "t1 = z3.Int(\"t1\")\n",
    "t2 = z3.Int(\"t2\")\n",
    "v1 = z3.Int(\"v1\")\n",
    "v2 = z3.Int(\"v2\")\n",
    "# solver.add(timeline[t1] == v1)\n",
    "# solver.add(z3.ForAll([arbitrary_t], z3.Implies()))\n",
    "solver.add(z3.Store(timeline, t1, v1) == timeline)\n",
    "solver.add(z3.Store(timeline, t2, v2) == timeline)\n",
    "solver.add(t1 != t2)\n",
    "solver.add(v1 != v2)\n",
    "solver.add(t1 >= 0)\n",
    "solver.add(t2 >= 0)\n",
    "solver.add(z3.ForAll([arbitrary_t], ))\n",
    "# solver.add(timeline[t1] < timeline[t2])\n",
    "# z2.Solve(timeline[t1] = t1, )\n",
    "# print(z3.Store(timeline, t1, v1))\n",
    "# solver.add()\n",
    "solver.minimize(t2)\n",
    "solver.check()\n",
    "print(solver.model())\n",
    "print(model.evaluate(t2))\n"
   ]
  },
  {
   "cell_type": "code",
   "execution_count": 43,
   "metadata": {},
   "outputs": [
    {
     "name": "stdout",
     "output_type": "stream",
     "text": [
      "True\n",
      "new\n"
     ]
    }
   ],
   "source": [
    "solver = z3.Optimize()\n",
    "\n",
    "State = z3.Datatype(\"State\")\n",
    "State.declare(\"new\", ('red',z3.BoolSort()), ('large',z3.BoolSort()))\n",
    "State = State.create()\n",
    "\n",
    "state1 = State.new(True, False)\n",
    "state2 = State.new(False, False)\n",
    "\n",
    "print(z3.simplify(State.large(state1) == State.large(state2)))\n",
    "print(State.new)"
   ]
  },
  {
   "cell_type": "code",
   "execution_count": 30,
   "metadata": {},
   "outputs": [
    {
     "name": "stdout",
     "output_type": "stream",
     "text": [
      "True\n"
     ]
    }
   ],
   "source": [
    "A = z3.DeclareSort('A')\n",
    "B = z3.DeclareSort('B')\n",
    "f = z3.Function('f', A, z3.IntSort())\n",
    "a1, a2, a3 = z3.Consts('a1 a2 a3', A)\n",
    "v1, v2     = z3.Consts('v1 v2', z3.IntSort())\n",
    "x, y       = z3.Consts('x y', A)\n",
    "\n",
    "s = z3.Solver()\n",
    "s.add(f(a1)==1)\n",
    "s.add(f(a2)==v2)\n",
    "s.add(v1==1)\n",
    "s.add(v2==1)\n",
    "s.add(a1!=a2)\n",
    "# s.add(f(a1)!=f(a2))\n",
    "# s.add(\n",
    "#       f(a1) == b,\n",
    "#       f(a2) == b,\n",
    "#       z3.ForAll([x, y], z3.Implies(f(x) == f(y), x == y),\n",
    "#              patterns=[z3.MultiPattern(f(x), f(y))])\n",
    "#       )\n",
    "print(s.check()==z3.sat)\n",
    "# z3.simplify(v2)"
   ]
  },
  {
   "cell_type": "code",
   "execution_count": null,
   "metadata": {},
   "outputs": [],
   "source": []
  },
  {
   "cell_type": "code",
   "execution_count": null,
   "metadata": {},
   "outputs": [],
   "source": []
  }
 ],
 "metadata": {
  "kernelspec": {
   "display_name": "Python 3",
   "language": "python",
   "name": "python3"
  },
  "language_info": {
   "codemirror_mode": {
    "name": "ipython",
    "version": 3
   },
   "file_extension": ".py",
   "mimetype": "text/x-python",
   "name": "python",
   "nbconvert_exporter": "python",
   "pygments_lexer": "ipython3",
   "version": "3.8.12"
  },
  "orig_nbformat": 4,
  "vscode": {
   "interpreter": {
    "hash": "b0fa6594d8f4cbf19f97940f81e996739fb7646882a419484c72d19e05852a7e"
   }
  }
 },
 "nbformat": 4,
 "nbformat_minor": 2
}
