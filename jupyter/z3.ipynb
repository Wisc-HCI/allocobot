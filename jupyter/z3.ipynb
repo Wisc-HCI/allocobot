{
 "cells": [
  {
   "cell_type": "code",
   "execution_count": 1,
   "metadata": {},
   "outputs": [],
   "source": [
    "import z3"
   ]
  },
  {
   "cell_type": "code",
   "execution_count": 36,
   "metadata": {},
   "outputs": [
    {
     "ename": "AttributeError",
     "evalue": "'list' object has no attribute 'len'",
     "output_type": "error",
     "traceback": [
      "\u001b[0;31m---------------------------------------------------------------------------\u001b[0m",
      "\u001b[0;31mAttributeError\u001b[0m                            Traceback (most recent call last)",
      "Cell \u001b[0;32mIn [36], line 10\u001b[0m\n\u001b[1;32m      8\u001b[0m     solver\u001b[39m.\u001b[39madd(timeline[i\u001b[39m+\u001b[39m\u001b[39m1\u001b[39m] \u001b[39m>\u001b[39m timeline[i])\n\u001b[1;32m      9\u001b[0m solver\u001b[39m.\u001b[39madd(timeline[\u001b[39m0\u001b[39m] \u001b[39m>\u001b[39m\u001b[39m=\u001b[39m \u001b[39m0\u001b[39m)\n\u001b[0;32m---> 10\u001b[0m solver\u001b[39m.\u001b[39madd(timeline[timeline\u001b[39m.\u001b[39;49mlen\u001b[39m-\u001b[39m\u001b[39m1\u001b[39m]\u001b[39m==\u001b[39m\u001b[39m2\u001b[39m)\n\u001b[1;32m     13\u001b[0m solver\u001b[39m.\u001b[39mminimize(timeline[length\u001b[39m-\u001b[39m\u001b[39m1\u001b[39m])\n\u001b[1;32m     14\u001b[0m \u001b[39mprint\u001b[39m(solver\u001b[39m.\u001b[39mcheck())\n",
      "\u001b[0;31mAttributeError\u001b[0m: 'list' object has no attribute 'len'"
     ]
    }
   ],
   "source": [
    "ctx = z3.Context()\n",
    "solver = z3.Optimize(ctx)\n",
    "\n",
    "length = 5\n",
    "\n",
    "timeline = [z3.Int('t{0}'.format(i),ctx) for i in range(length)]\n",
    "for i in range(length-1):\n",
    "    solver.add(timeline[i+1] > timeline[i])\n",
    "solver.add(timeline[0] >= 0)\n",
    "solver.add(timeline[timeline.length()-1]==2)\n",
    "\n",
    "\n",
    "solver.minimize(timeline[length-1])\n",
    "print(solver.check())\n",
    "print(solver.reason_unknown())\n",
    "print(solver.model())\n"
   ]
  },
  {
   "cell_type": "code",
   "execution_count": null,
   "metadata": {},
   "outputs": [],
   "source": []
  }
 ],
 "metadata": {
  "kernelspec": {
   "display_name": "Python 3",
   "language": "python",
   "name": "python3"
  },
  "language_info": {
   "codemirror_mode": {
    "name": "ipython",
    "version": 3
   },
   "file_extension": ".py",
   "mimetype": "text/x-python",
   "name": "python",
   "nbconvert_exporter": "python",
   "pygments_lexer": "ipython3",
   "version": "3.10.7"
  },
  "orig_nbformat": 4,
  "vscode": {
   "interpreter": {
    "hash": "b0fa6594d8f4cbf19f97940f81e996739fb7646882a419484c72d19e05852a7e"
   }
  }
 },
 "nbformat": 4,
 "nbformat_minor": 2
}
